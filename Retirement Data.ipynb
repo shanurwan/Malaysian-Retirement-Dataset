{
 "cells": [
  {
   "cell_type": "code",
   "execution_count": 1,
   "id": "a449a119-8c37-4c6a-a4f8-2394db0de7c9",
   "metadata": {},
   "outputs": [],
   "source": [
    "import pandas as pd\n",
    "import numpy as np"
   ]
  },
  {
   "cell_type": "markdown",
   "id": "232bb86b-ebfc-48fc-b23b-831ba2075db3",
   "metadata": {},
   "source": [
    "### Data Simulation\n",
    "- Probability sampling method = We don’t have actual N people’s data, so we generate it based on real-world probability"
   ]
  },
  {
   "cell_type": "code",
   "execution_count": 2,
   "id": "ef6796e7-1e66-419f-859b-df17600099e0",
   "metadata": {},
   "outputs": [],
   "source": [
    "np.random.seed(1140) #for reproducibility\n",
    "N = 1000"
   ]
  },
  {
   "cell_type": "markdown",
   "id": "96d38afc-72a6-4a1c-9b49-a8b93a4c0c9f",
   "metadata": {},
   "source": [
    "### Age range = 50 to 60 \n",
    "Why?\n",
    "- Typical retirement age for majority of Malaysian (targeting the group with real urgency)\n",
    "- Following the standard of almost all public datasets (EPF, NHMS, DOSM) \n",
    "- Actionable scoring logic (immediate usage)"
   ]
  },
  {
   "cell_type": "code",
   "execution_count": 3,
   "id": "3e7d251d-7942-4f32-8ad2-da685743fd71",
   "metadata": {},
   "outputs": [],
   "source": [
    "age = np.random.randint(50, 61, size=N)"
   ]
  },
  {
   "cell_type": "markdown",
   "id": "e7313924-c5b2-4098-9076-6274cb6f2646",
   "metadata": {},
   "source": [
    "### Gender \n",
    "Males: est 17.5 million (49%) ,Females: est 15.9 million (51%)\n",
    "\n",
    "Source = https://www.dosm.gov.my/site/downloadrelease?admin_view=&id=current-population-estimates-malaysia----2023&lang=English&"
   ]
  },
  {
   "cell_type": "code",
   "execution_count": 4,
   "id": "7cc0fc01-6e61-4912-bc73-26f547f35284",
   "metadata": {},
   "outputs": [],
   "source": [
    "gender = np.random.choice([\"Male\", \"Female\"], size=N, p=[0.49, 0.51])"
   ]
  },
  {
   "cell_type": "markdown",
   "id": "d6751bad-edce-4e43-bcb8-fe4ad4ef30d4",
   "metadata": {},
   "source": [
    "### State\n",
    "Derived population proportions for each Malaysian state based on DOSM 2024\n",
    "\n",
    "Source = https://open.dosm.gov.my/data-catalogue/population_state"
   ]
  },
  {
   "cell_type": "code",
   "execution_count": 5,
   "id": "5fb9928a-bcf7-4651-991c-59a63d65ab1a",
   "metadata": {},
   "outputs": [],
   "source": [
    "URL_DATA = 'https://storage.dosm.gov.my/population/population_state.parquet'\n",
    "data = pd.read_parquet(URL_DATA)\n",
    "df_2024 = data[\n",
    "    (pd.to_datetime(data['date']).dt.year == 2024) &\n",
    "    (data['sex'] == 'both') &\n",
    "    (data['age'] == 'overall') &\n",
    "    (data['ethnicity'] == 'overall')\n",
    "]\n",
    "\n",
    "# compute proportion\n",
    "total_pop_2024 = df_2024.groupby('state')['population'].sum().reset_index()\n",
    "total_pop_2024 = total_pop_2024.sort_values(by='population', ascending=False)\n",
    "total = total_pop_2024['population'].sum()\n",
    "total_pop_2024['population_pct'] = total_pop_2024['population'] / total \n",
    "#there are already in percentage but does not sum up to 1 due to floating-point issues. (sum = 0.999)\n",
    "\n",
    "states = total_pop_2024['state'].tolist()\n",
    "weights = total_pop_2024['population_pct'].to_numpy()  #convert to numpy array to support element wise vector operation \n",
    "weights = weights / weights.sum()  #  normalize again to fix small rounding (sum up to 1)\n",
    "\n",
    "states = np.random.choice(states, size=N, p=weights)"
   ]
  },
  {
   "cell_type": "markdown",
   "id": "45840f97-5047-4278-894b-b3e5f060ef93",
   "metadata": {},
   "source": [
    "### Household Size\n",
    "Household size based on typical Malaysian distribution. \n",
    "1. Average is 3.8 ranging from 1 to 6\n",
    "2. As for probability, assign discrete probability mass function (PMF) based on grouped statistical aggregates\n",
    "\n",
    "To understand number 2:\n",
    "Based on DOSM approximate breakdown:\n",
    "\n",
    "    • 1–2 persons: ~20%\n",
    "    \n",
    "    • 3–4 persons: ~50%\n",
    "    \n",
    "    • > 5 persons: ~30%\n",
    "    \n",
    "To Simulate our data into imagine a histogram that match DOSM breakdown:\n",
    "\n",
    "-Divide the household sizes into bins like this:[1,2,3,4,5,6] \n",
    "\n",
    "-Assign probabilities to each bin that reflect the target ranges (must adding up to 100%): [10%,15%,25%,25%,15%,10%]\n",
    "\n",
    "This matche the expected shape of household sizes in Malaysia while still keep the realistic average (3.8), the shape and proper probability rule (sum to 1)\n",
    "\n",
    "Source :\n",
    "\n",
    "Population and Housing Census : https://www.dosm.gov.my/site/downloadrelease?admin_view=&id=key-findings-population-and-housing-census-of-malaysia-2020-administrative-district&lang=English\n",
    "\n",
    "DOSM : https://open.dosm.gov.my/dashboard/kawasanku"
   ]
  },
  {
   "cell_type": "code",
   "execution_count": 6,
   "id": "9c0eb9fa-dc27-451e-a0a1-a4b989d0b9d5",
   "metadata": {},
   "outputs": [],
   "source": [
    "household_size = np.random.choice([1, 2, 3, 4, 5, 6], size=N, p=[0.1, 0.15, 0.25, 0.25, 0.15, 0.1])"
   ]
  },
  {
   "cell_type": "markdown",
   "id": "4ab50647-2fb8-4976-b2f0-a6a1d6eeb869",
   "metadata": {},
   "source": [
    "### Monthly Income\n",
    "\n",
    "Statistical method : Stratified Sampling \n",
    "\n",
    "In simple words, split them into meaningful group an then sample from each group\n",
    "\n",
    "Step:\n",
    "1. Group into 10 income brackets using real 2022 DOSM data (dosm tabulate by percentile aka 100 equally sized group so use decile)\n",
    "2. Randomly picked one bracket for each simulated person so each income group gets fair representation\n",
    "3. Randomly generated an income inside that group’s actual range (for natural variation)\n",
    "   \n",
    "source = https://open.dosm.gov.my/data-catalogue/hh_income"
   ]
  },
  {
   "cell_type": "code",
   "execution_count": 8,
   "id": "b85c67e2-276d-44d1-ac38-90273125858a",
   "metadata": {},
   "outputs": [],
   "source": [
    "URL = 'https://storage.dosm.gov.my/hies/hies_malaysia_percentile.parquet'\n",
    "df = pd.read_parquet(URL)\n",
    "df = df[(df['date']=='2022-01-01') & (df['variable']=='median')]\n",
    "\n",
    "# Derive decile cutoffs\n",
    "df = df.sort_values('percentile') #sort in order\n",
    "cut = {0: int(df['income'].min())} # start from lowest income\n",
    "for p in range(10, 101, 10): # income cutoff for every decile \n",
    "    cut[p] = int(df[df['percentile'] == p]['income'].iloc[0])\n",
    "ranges = [(cut[i], cut[i+10]) for i in range(0,100,10)] #each tuple is the income range for 1 decile\n",
    "probs = [0.1] * 10 #10% chance for each decile assume equal population share\n",
    "\n",
    "# Simulate Income Based on These Decile Ranges\n",
    "def simulate_income_empirical():\n",
    "    d = np.random.choice(10, p=probs)\n",
    "    return np.random.randint(ranges[d][0], ranges[d][1] + 1) #gives variability inside each income group to make it more human\n",
    "\n",
    "monthly_income = np.array([simulate_income_empirical() for _ in range(N)])"
   ]
  },
  {
   "cell_type": "markdown",
   "id": "998d9b1b-f142-4893-b73d-32496661c14c",
   "metadata": {},
   "source": [
    "### EPF Balance\n",
    "Based on Official KWSP Annual report median EPF balances of RM 35,161 (age 50–54) and RM 11,547 (age 55–59) however these reflect the entire Malaysian population including informal workers and early withdrawals. For this simulation use: \n",
    "\n",
    "Age 50–54: RM50k\n",
    "\n",
    "Age 55–59: RM70k\n",
    "\n",
    "Why? This better represents the audience likely to use this tool (stable, full-time workers (M40/T20)). We believe this assumption improves realism to\n",
    "plan for retirement.\n",
    "\n",
    "Next, most people are near average while some are higher or lower so we use normal distribution\n",
    "\n",
    "Estimate the standard deviation using coefficient of variation (how spread data is relative to the average). Take 0.20 and 0.18. In economic modeling, a typical assumption is that income or savings values for middle-income groups have a standard deviation around 15%–25% of the mean. This keeps the simulated EPF balances realistic without overfitting or artificial precision.\n",
    "\n",
    "Source : https://www.kwsp.gov.my/documents/d/guest/2023-epf-dividend_appendix_2"
   ]
  },
  {
   "cell_type": "code",
   "execution_count": 9,
   "id": "69e3262a-c168-42f3-88a9-cc4e5f81a065",
   "metadata": {},
   "outputs": [],
   "source": [
    "def simulate_epf(age):\n",
    "    if age < 55:\n",
    "        return int(np.random.normal(50000, 9000))\n",
    "    else:\n",
    "        return int(np.random.normal(70000, 14000))\n",
    "\n",
    "epf_balance = np.array([simulate_epf(a) for a in age])"
   ]
  },
  {
   "cell_type": "markdown",
   "id": "789fc024-3a72-4e9d-bc7c-01717d86b373",
   "metadata": {},
   "source": [
    "### Debt amount as % of income (varies 20% to 80%)\n",
    "Based on BNM debt servicing ratio \n",
    "\n",
    "Source = https://www.bnm.gov.my/publications/fsr2023h2"
   ]
  },
  {
   "cell_type": "code",
   "execution_count": 10,
   "id": "9296b13b-0e6a-4c1a-818e-154f3e64b802",
   "metadata": {},
   "outputs": [],
   "source": [
    "debt_amount = np.array([int(income * np.random.uniform(0.2, 0.8)) for income in monthly_income])"
   ]
  },
  {
   "cell_type": "markdown",
   "id": "d9d23e3f-2257-4e64-8925-a25c1728c70d",
   "metadata": {},
   "source": [
    "### Chronic Disease Probability Simulation\n",
    "\n",
    "Method : Probabilistic Sampling with Binomial Distribution\n",
    "\n",
    "Based on NHMS 2023 key findings :\n",
    "\n",
    "1. Diabetes prevalence ~15.6%\n",
    "2. Hypertension prevalence ~29.2%\n",
    "\n",
    "Therefore we use baseline 35% (Among Malaysians aged 50–59, combined chronic disease risk possibility (at least one))\n",
    "\n",
    "To reflect age-related risk:\n",
    "- Let the probability increase by 1% per year over age 50 \n",
    "- Males receive a +3% adjustment based on higher male risk in NHMS\n",
    "- Probabilities were capped at 85% to avoid unrealistic outcomes (no population has that high a chronic rate, at least in Malaysia)\n",
    "\n",
    "Source = https://iku.nih.gov.my/images/nhms2023/key-findings-nhms-2023.pdf"
   ]
  },
  {
   "cell_type": "code",
   "execution_count": 11,
   "id": "fd6030e1-e20b-4a59-a839-ebb73aa0d8e5",
   "metadata": {},
   "outputs": [],
   "source": [
    "def simulate_chronic(age, gender):\n",
    "    base_prob = 0.35 + 0.01 * (age - 50)\n",
    "    if gender == \"Male\":\n",
    "        base_prob += 0.03\n",
    "    return np.random.binomial(1, min(base_prob, 0.85))\n",
    "\n",
    "has_chronic_disease = np.array([simulate_chronic(a, g) for a, g in zip(age, gender)])"
   ]
  },
  {
   "cell_type": "markdown",
   "id": "39f4b709-bc9c-4b13-af95-aece6c83ec59",
   "metadata": {},
   "source": [
    "### Medical expense monthly (depends on chronic)\n",
    "Based on NHMS 2023: average outpatient OOP = RM134 but this reflects a central tendency not representative of people with chronic diseases. So we take it as baseline.\n",
    "\n",
    "1. Medication + visits + tests = RM200–800/month is realistic for chronic conditions\n",
    "   \n",
    "   Lower bound (RM200): Represents public hospital patients with subsidies.\n",
    "   \n",
    "   Upper bound (RM800): Covers patients using private clinics with multiple medications and those managing multiple conditions.\n",
    "   \n",
    "2. Healthy individuals assigned RM50–200 to simulate light outpatient or supplements\n",
    "\n",
    "Source = https://iku.nih.gov.my/images/nhms2023/fact-sheet-nhms-2023.pdf"
   ]
  },
  {
   "cell_type": "code",
   "execution_count": 12,
   "id": "bcbe1e8c-3f5f-4d7d-97e4-2d9245550734",
   "metadata": {},
   "outputs": [],
   "source": [
    "medical_expense_monthly = np.where(\n",
    "    has_chronic_disease == 1,\n",
    "    np.random.randint(200, 800, size=N),\n",
    "    np.random.randint(50, 200, size=N)\n",
    ")\n",
    "# use uniform distribution to assume every number in that range equally likely to occur"
   ]
  },
  {
   "cell_type": "markdown",
   "id": "799be993-43d3-4646-abf1-56d49532761b",
   "metadata": {},
   "source": [
    "### Mental stress level (0 to 1) → higher if low income or sick\n",
    "Based on NHMS 2015 shows nearly 30% of Malaysians had mental health issues, especially among the economically vulnerable. WHO findings also indicate there are significant rising trend of mental health issue among Malaysian since recent years\n",
    "\n",
    "Model Logic:\n",
    "\n",
    "1. Low income (< RM3,000) = Financial stress (+0.2)\n",
    "   \n",
    "Based on global and Malaysian findings: Low-income individuals consistently show higher rates of depression and anxiety\n",
    "\n",
    "2. Chronic disease = higher stress (+0.1)\n",
    "\n",
    "Chronic disease leads to living with illness plus financial burden which may drive psychological burden (seen in NHMS and mental health research)\n",
    "\n",
    "3. Random base stress (0.3–0.7) accounts for typical variance in mental wellbeing even without financial or health pressures\n",
    "   \n",
    "Source:\n",
    "- https://www.who.int/about/accountability/results/who-results-report-2024-2025/country-profile/2024/malaysia\n",
    "- https://pmc.ncbi.nlm.nih.gov/articles/PMC8863240/\n",
    "- https://www.moh.gov.my/moh/resources/Penerbitan/Rujukan/NCD/National%20Strategic%20Plan/The_National_Strategic_Plan_For_Mental_Health_2020-2025.pdf\n",
    "- https://e-journal.uum.edu.my/index.php/jps/article/view/14522"
   ]
  },
  {
   "cell_type": "code",
   "execution_count": 13,
   "id": "bbce6487-010a-4a69-9ff0-92599c316c87",
   "metadata": {},
   "outputs": [],
   "source": [
    "mental_stress_level = []\n",
    "for income, chronic in zip(monthly_income, has_chronic_disease):\n",
    "    stress = np.random.uniform(0.3, 0.7)\n",
    "    if income < 3000:\n",
    "        stress += 0.2\n",
    "    if chronic:\n",
    "        stress += 0.1\n",
    "    mental_stress_level.append(round(min(stress, 1.0), 2))\n"
   ]
  },
  {
   "cell_type": "markdown",
   "id": "d3d8522c-80cd-4182-aa1e-2f8b9de619fd",
   "metadata": {},
   "source": [
    "###  Expected monthly expenses based on household size with CPI state multiplier\n",
    "\n",
    "CPI = Consumer Price Index = Price change over time or simply put a metric for inflation\n",
    "\n",
    "How DOSM get this? Every month they compares the current total price of items in each state to what it cost in a base year (2010)\n",
    "\n",
    "We normalize CPI to get multiplier (national average CPI as reference)\n",
    "\n",
    "- more expensive than average therefor multiplier > 1\n",
    "- cheaper then multiplier < 1\n",
    "\n",
    "Base expense :\n",
    "\n",
    "- Let take 500 to 800 for basic (rent, electric,water,food)\n",
    "- Then take add 300 per household (variable cost for each extra person)\n",
    "  \n",
    "[DOSM 2022 = house of 4 spend around 5k+ so that is 1k+ each so base = (within 500–800) + (4 × 300) = RM 1k+ #allign with real figure]\n",
    "\n",
    "- Applies multiplier to adjust for cost of living per state (by default = 1)\n",
    "  \n",
    "Source = https://open.dosm.gov.my/data-catalogue/cpi_state"
   ]
  },
  {
   "cell_type": "code",
   "execution_count": 17,
   "id": "c06e65cd-a8b8-4856-b87b-73bcb0a0bc88",
   "metadata": {},
   "outputs": [],
   "source": [
    "df_cpi = pd.read_parquet(\"https://storage.dosm.gov.my/cpi/cpi_2d_state.parquet\")\n",
    "latest = df_cpi[df_cpi['division'] == 'overall'].sort_values('date').drop_duplicates('state', keep='last')#CPI has many categories so filter only overall\n",
    "latest = latest[['state', 'index']] # base year 2010 = 100\n",
    "ref = latest['index'].mean() # take the national average as reference \n",
    "latest['multiplier'] = latest['index'] / ref #Normalize\n",
    "cpi_map = latest.set_index('state')['multiplier'].to_dict()\n",
    "states = list(cpi_map.keys())\n",
    "household_size = np.random.choice([1, 2, 3, 4, 5, 6], size=N, p=[0.1, 0.15, 0.25, 0.25, 0.15, 0.1]) #from household simulation \n",
    "state = np.random.choice(states, size=N, p=[1/len(states)]*len(states))  # randomly assigned for now\n",
    "\n",
    "#Simulate base expenses with CPI adjustment\n",
    "base_expense = []\n",
    "for h, s in zip(household_size, state):\n",
    "    cpi = cpi_map.get(s, 1.0)  # default to 1.0 if missing\n",
    "    base = np.random.randint(500, 800) + h * 300\n",
    "    base_expense.append(int(base * cpi))\n"
   ]
  },
  {
   "cell_type": "markdown",
   "id": "c9d65bcb-c182-469d-ab1c-de778f7d7ca1",
   "metadata": {},
   "source": [
    "### Latent retirement readiness score (probabilistic)\n",
    "The score is computed using a logistic formula \n",
    "\n",
    "Why?\n",
    "- Turns any real number into between 0 to 1 which can then just multiply with 100 to get percentage\n",
    "- Smooth function so small changes in variable cause small change in result (no suprising outcome)\n",
    "- Easy to understand weight and make decision (feasy to seelike debt can hurt more than household (example only) )\n",
    "\n",
    "This is a common way actually in probabilities, you can explore more on google or just ask AI"
   ]
  },
  {
   "cell_type": "code",
   "execution_count": 15,
   "id": "ce11b02d-db66-4b28-b177-fc1f95f58763",
   "metadata": {},
   "outputs": [],
   "source": [
    "readiness_score = []\n",
    "for i in range(N):\n",
    "    logit = (\n",
    "        + 0.00005 * epf_balance[i]\n",
    "        - 0.0002 * debt_amount[i]\n",
    "        - 0.5 * has_chronic_disease[i]\n",
    "        - 0.3 * mental_stress_level[i]\n",
    "        + 0.2 * np.log1p(monthly_income[i])\n",
    "    )\n",
    "    p = 1 / (1 + np.exp(-logit))\n",
    "    readiness_score.append(int(round(p * 100)))"
   ]
  },
  {
   "cell_type": "markdown",
   "id": "6e773eef-e8ec-4cb3-b658-383179688c2d",
   "metadata": {},
   "source": [
    "### Export to csv"
   ]
  },
  {
   "cell_type": "code",
   "execution_count": 16,
   "id": "314a4f7e-f785-401d-a704-54f2d27a6563",
   "metadata": {},
   "outputs": [
    {
     "name": "stdout",
     "output_type": "stream",
     "text": [
      "retirement.csv saved\n"
     ]
    }
   ],
   "source": [
    "df = pd.DataFrame({\n",
    "    \"age\": age,\n",
    "    \"gender\": gender,\n",
    "    \"state\": state,\n",
    "    \"monthly_income\": monthly_income,\n",
    "    \"epf_balance\": epf_balance,\n",
    "    \"debt_amount\": debt_amount,\n",
    "    \"household_size\": household_size,\n",
    "    \"has_chronic_disease\": has_chronic_disease,\n",
    "    \"medical_expense_monthly\": medical_expense_monthly,\n",
    "    \"mental_stress_level\": mental_stress_level,\n",
    "    \"expected_monthly_expense\": base_expense,\n",
    "    \"retirement_readiness_score\": readiness_score\n",
    "})\n",
    "\n",
    "df.to_csv(\"retirement.csv\", index=False)\n",
    "print(\"retirement.csv saved\")\n"
   ]
  },
  {
   "cell_type": "code",
   "execution_count": null,
   "id": "705beff6-8a9e-4dec-aefc-5f78cd9263c9",
   "metadata": {},
   "outputs": [],
   "source": []
  }
 ],
 "metadata": {
  "kernelspec": {
   "display_name": "Python 3 (ipykernel)",
   "language": "python",
   "name": "python3"
  },
  "language_info": {
   "codemirror_mode": {
    "name": "ipython",
    "version": 3
   },
   "file_extension": ".py",
   "mimetype": "text/x-python",
   "name": "python",
   "nbconvert_exporter": "python",
   "pygments_lexer": "ipython3",
   "version": "3.12.9"
  }
 },
 "nbformat": 4,
 "nbformat_minor": 5
}
